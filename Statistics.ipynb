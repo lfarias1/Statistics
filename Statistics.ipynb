{
 "cells": [
  {
   "cell_type": "markdown",
   "metadata": {},
   "source": [
    "# Statistics"
   ]
  },
  {
   "cell_type": "code",
   "execution_count": 51,
   "metadata": {},
   "outputs": [],
   "source": [
    "import pandas as pd\n",
    "import numpy as np\n",
    "import scipy\n",
    "from scipy import stats\n",
    "import statistics"
   ]
  },
  {
   "cell_type": "markdown",
   "metadata": {},
   "source": [
    "## Descriptive Statistics"
   ]
  },
  {
   "cell_type": "markdown",
   "metadata": {},
   "source": [
    "Descriptive statistics is about summarizing data. It usually has two branches:\n",
    "* Quantitative approach\n",
    "* Visual approach"
   ]
  },
  {
   "cell_type": "markdown",
   "metadata": {},
   "source": [
    "### Quantitative Approach"
   ]
  },
  {
   "cell_type": "markdown",
   "metadata": {},
   "source": [
    "#### Types of measure"
   ]
  },
  {
   "cell_type": "markdown",
   "metadata": {},
   "source": [
    "##### Central Tendency"
   ]
  },
  {
   "cell_type": "markdown",
   "metadata": {},
   "source": [
    "###### Mean"
   ]
  },
  {
   "cell_type": "markdown",
   "metadata": {},
   "source": [
    "\\begin{equation}\n",
    "\\large \\mu = \\frac{1}{N}\\sum_{i=1}^N x_i\n",
    "\\end{equation}"
   ]
  },
  {
   "cell_type": "code",
   "execution_count": 19,
   "metadata": {},
   "outputs": [
    {
     "data": {
      "text/plain": [
       "[1, 2, 3, 4, 5, 6]"
      ]
     },
     "execution_count": 19,
     "metadata": {},
     "output_type": "execute_result"
    }
   ],
   "source": [
    "numbers = [1, 2, 3, 4, 5, 6]\n",
    "numbers"
   ]
  },
  {
   "cell_type": "code",
   "execution_count": 8,
   "metadata": {},
   "outputs": [],
   "source": [
    "import statistics\n",
    "import numpy as np"
   ]
  },
  {
   "cell_type": "code",
   "execution_count": 15,
   "metadata": {},
   "outputs": [
    {
     "name": "stdout",
     "output_type": "stream",
     "text": [
      "14.1 µs ± 1.26 µs per loop (mean ± std. dev. of 10 runs, 100000 loops each)\n"
     ]
    }
   ],
   "source": [
    "%%timeit -n 100000 -r 10\n",
    "statistics.mean(numbers)"
   ]
  },
  {
   "cell_type": "code",
   "execution_count": 16,
   "metadata": {},
   "outputs": [
    {
     "name": "stdout",
     "output_type": "stream",
     "text": [
      "478 ns ± 20.4 ns per loop (mean ± std. dev. of 10 runs, 100000 loops each)\n"
     ]
    }
   ],
   "source": [
    "%%timeit -n 100000 -r 10\n",
    "statistics.fmean(numbers)"
   ]
  },
  {
   "cell_type": "code",
   "execution_count": 17,
   "metadata": {},
   "outputs": [
    {
     "name": "stdout",
     "output_type": "stream",
     "text": [
      "14.5 µs ± 1.19 µs per loop (mean ± std. dev. of 10 runs, 100000 loops each)\n"
     ]
    }
   ],
   "source": [
    "%%timeit -n 100000 -r 10\n",
    "np.mean(numbers)"
   ]
  },
  {
   "cell_type": "code",
   "execution_count": 18,
   "metadata": {},
   "outputs": [
    {
     "name": "stdout",
     "output_type": "stream",
     "text": [
      "389 ns ± 20.7 ns per loop (mean ± std. dev. of 10 runs, 100000 loops each)\n"
     ]
    }
   ],
   "source": [
    "%%timeit -n 100000 -r 10\n",
    "sum(numbers)/len(numbers)"
   ]
  },
  {
   "cell_type": "markdown",
   "metadata": {},
   "source": [
    "###### Weighted Mean"
   ]
  },
  {
   "cell_type": "markdown",
   "metadata": {},
   "source": [
    "\\begin{equation}\n",
    "\\large \\bar {x} = \\frac{\\sum_{i=1}^N x_i w_i}{\\sum_{i=1}^N w_i}\n",
    "\\end{equation}"
   ]
  },
  {
   "cell_type": "code",
   "execution_count": 29,
   "metadata": {},
   "outputs": [
    {
     "data": {
      "text/plain": [
       "[1, 2, 3, 4, 5, 6]"
      ]
     },
     "execution_count": 29,
     "metadata": {},
     "output_type": "execute_result"
    }
   ],
   "source": [
    "numbers = [1, 2, 3, 4, 5, 6]\n",
    "numbers"
   ]
  },
  {
   "cell_type": "code",
   "execution_count": 30,
   "metadata": {},
   "outputs": [
    {
     "data": {
      "text/plain": [
       "[0.1, 0.2, 0.5, 0.3, 0.7, 0.2]"
      ]
     },
     "execution_count": 30,
     "metadata": {},
     "output_type": "execute_result"
    }
   ],
   "source": [
    "weights = [0.1, 0.2, 0.5, 0.3, 0.7, 0.2]\n",
    "weights"
   ]
  },
  {
   "cell_type": "code",
   "execution_count": 34,
   "metadata": {},
   "outputs": [
    {
     "name": "stdout",
     "output_type": "stream",
     "text": [
      "1.53 µs ± 63 ns per loop (mean ± std. dev. of 10 runs, 100000 loops each)\n"
     ]
    }
   ],
   "source": [
    "%%timeit -n 100000 -r 10\n",
    "sum([numbers[i]*weights[i] for i in range(len(numbers))])/sum(weights)"
   ]
  },
  {
   "cell_type": "code",
   "execution_count": 35,
   "metadata": {},
   "outputs": [
    {
     "name": "stdout",
     "output_type": "stream",
     "text": [
      "1.08 µs ± 28.7 ns per loop (mean ± std. dev. of 10 runs, 100000 loops each)\n"
     ]
    }
   ],
   "source": [
    "%%timeit -n 100000 -r 10\n",
    "sum([n*w for n, w in zip(numbers, weights)])/sum(weights)"
   ]
  },
  {
   "cell_type": "code",
   "execution_count": 36,
   "metadata": {},
   "outputs": [
    {
     "name": "stdout",
     "output_type": "stream",
     "text": [
      "21.8 µs ± 511 ns per loop (mean ± std. dev. of 10 runs, 100000 loops each)\n"
     ]
    }
   ],
   "source": [
    "%%timeit -n 100000 -r 10\n",
    "np.average(numbers, weights=weights)"
   ]
  },
  {
   "cell_type": "code",
   "execution_count": 40,
   "metadata": {},
   "outputs": [],
   "source": [
    "w = np.array(weights)\n",
    "n = np.array(numbers)"
   ]
  },
  {
   "cell_type": "code",
   "execution_count": 41,
   "metadata": {},
   "outputs": [
    {
     "name": "stdout",
     "output_type": "stream",
     "text": [
      "5.14 µs ± 116 ns per loop (mean ± std. dev. of 10 runs, 100000 loops each)\n"
     ]
    }
   ],
   "source": [
    "%%timeit -n 100000 -r 10\n",
    "(w * n).sum() / w.sum()"
   ]
  },
  {
   "cell_type": "markdown",
   "metadata": {},
   "source": [
    "###### Geometric Mean"
   ]
  },
  {
   "cell_type": "markdown",
   "metadata": {},
   "source": [
    "\\begin{equation}\n",
    "\\large GM = \\left (\\prod_{i=1}^N x_i \\right)^\\frac{1}{N}\n",
    "\\end{equation}"
   ]
  },
  {
   "cell_type": "code",
   "execution_count": 42,
   "metadata": {},
   "outputs": [
    {
     "data": {
      "text/plain": [
       "[1, 2, 3, 4, 5, 6]"
      ]
     },
     "execution_count": 42,
     "metadata": {},
     "output_type": "execute_result"
    }
   ],
   "source": [
    "numbers = [1, 2, 3, 4, 5, 6]\n",
    "numbers"
   ]
  },
  {
   "cell_type": "code",
   "execution_count": 46,
   "metadata": {},
   "outputs": [
    {
     "name": "stdout",
     "output_type": "stream",
     "text": [
      "493 ns ± 26.4 ns per loop (mean ± std. dev. of 10 runs, 100000 loops each)\n"
     ]
    }
   ],
   "source": [
    "%%timeit -n 100000 -r 10\n",
    "gmean = 1\n",
    "for i in numbers:\n",
    "    gmean *= i\n",
    "gmean **= 1/len(numbers)\n",
    "gmean"
   ]
  },
  {
   "cell_type": "code",
   "execution_count": 48,
   "metadata": {},
   "outputs": [
    {
     "name": "stdout",
     "output_type": "stream",
     "text": [
      "2.65 µs ± 114 ns per loop (mean ± std. dev. of 10 runs, 100000 loops each)\n"
     ]
    }
   ],
   "source": [
    "%%timeit -n 100000 -r 10\n",
    "statistics.geometric_mean(numbers)"
   ]
  },
  {
   "cell_type": "code",
   "execution_count": 52,
   "metadata": {},
   "outputs": [
    {
     "name": "stdout",
     "output_type": "stream",
     "text": [
      "12.4 µs ± 1.84 µs per loop (mean ± std. dev. of 10 runs, 100000 loops each)\n"
     ]
    }
   ],
   "source": [
    "%%timeit -n 100000 -r 10\n",
    "scipy.stats.gmean(numbers)"
   ]
  },
  {
   "cell_type": "markdown",
   "metadata": {},
   "source": [
    "###### Harmonic Mean"
   ]
  },
  {
   "cell_type": "markdown",
   "metadata": {},
   "source": [
    "\\begin{equation}\n",
    "\\large H = \\left (\\frac{\\sum_{i=1}^N x_i^{-1}}{N} \\right)^{-1}\n",
    "\\end{equation}"
   ]
  },
  {
   "cell_type": "code",
   "execution_count": 60,
   "metadata": {},
   "outputs": [
    {
     "data": {
      "text/plain": [
       "[1, 2, 3, 4, 5, 6]"
      ]
     },
     "execution_count": 60,
     "metadata": {},
     "output_type": "execute_result"
    }
   ],
   "source": [
    "numbers = [1, 2, 3, 4, 5, 6]\n",
    "numbers"
   ]
  },
  {
   "cell_type": "code",
   "execution_count": 61,
   "metadata": {},
   "outputs": [
    {
     "name": "stdout",
     "output_type": "stream",
     "text": [
      "769 ns ± 29.4 ns per loop (mean ± std. dev. of 10 runs, 100000 loops each)\n"
     ]
    }
   ],
   "source": [
    "%%timeit -n 100000 -r 10\n",
    "len(numbers)/sum(1/item for item in numbers)"
   ]
  },
  {
   "cell_type": "code",
   "execution_count": 62,
   "metadata": {},
   "outputs": [
    {
     "name": "stdout",
     "output_type": "stream",
     "text": [
      "42.5 µs ± 5.17 µs per loop (mean ± std. dev. of 10 runs, 100000 loops each)\n"
     ]
    }
   ],
   "source": [
    "%%timeit -n 100000 -r 10\n",
    "statistics.harmonic_mean(numbers)"
   ]
  },
  {
   "cell_type": "code",
   "execution_count": 64,
   "metadata": {},
   "outputs": [
    {
     "name": "stdout",
     "output_type": "stream",
     "text": [
      "21.9 µs ± 380 ns per loop (mean ± std. dev. of 10 runs, 100000 loops each)\n"
     ]
    }
   ],
   "source": [
    "%%timeit -n 100000 -r 10\n",
    "scipy.stats.hmean(numbers)"
   ]
  },
  {
   "cell_type": "markdown",
   "metadata": {},
   "source": [
    "###### Median"
   ]
  },
  {
   "cell_type": "markdown",
   "metadata": {},
   "source": [
    "\\begin{equation}\n",
    "\\large \\text{median} = \\frac{1}{2}\\left( x_{\\lfloor{(n+1)/2}\\rfloor} + x_{\\lceil{(n+1)/2}\\rceil} \\right)\n",
    "\\end{equation}"
   ]
  },
  {
   "cell_type": "code",
   "execution_count": 65,
   "metadata": {},
   "outputs": [
    {
     "data": {
      "text/plain": [
       "[1, 2, 3, 4, 5, 6]"
      ]
     },
     "execution_count": 65,
     "metadata": {},
     "output_type": "execute_result"
    }
   ],
   "source": [
    "numbers = [1, 2, 3, 4, 5, 6]\n",
    "numbers"
   ]
  },
  {
   "cell_type": "code",
   "execution_count": 68,
   "metadata": {},
   "outputs": [
    {
     "name": "stdout",
     "output_type": "stream",
     "text": [
      "689 ns ± 47.1 ns per loop (mean ± std. dev. of 10 runs, 100000 loops each)\n"
     ]
    }
   ],
   "source": [
    "%%timeit -n 100000 -r 10\n",
    "n = len(numbers)\n",
    "sorted_numbers = sorted(numbers)\n",
    "if n%2 == 0:\n",
    "    median = 0.5*(sorted_numbers[int((n+1)/2)] + sorted_numbers[int((n+2)/2)])\n",
    "else:\n",
    "    median = sorted_numbers[int((n+1)/2)]"
   ]
  },
  {
   "cell_type": "code",
   "execution_count": 69,
   "metadata": {},
   "outputs": [
    {
     "name": "stdout",
     "output_type": "stream",
     "text": [
      "501 ns ± 32.2 ns per loop (mean ± std. dev. of 10 runs, 100000 loops each)\n"
     ]
    }
   ],
   "source": [
    "%%timeit -n 100000 -r 10\n",
    "statistics.median(numbers)"
   ]
  },
  {
   "cell_type": "code",
   "execution_count": 70,
   "metadata": {},
   "outputs": [
    {
     "name": "stdout",
     "output_type": "stream",
     "text": [
      "434 ns ± 55.1 ns per loop (mean ± std. dev. of 10 runs, 100000 loops each)\n"
     ]
    }
   ],
   "source": [
    "%%timeit -n 100000 -r 10\n",
    "statistics.median_low(numbers)"
   ]
  },
  {
   "cell_type": "code",
   "execution_count": 71,
   "metadata": {},
   "outputs": [
    {
     "name": "stdout",
     "output_type": "stream",
     "text": [
      "370 ns ± 19.6 ns per loop (mean ± std. dev. of 10 runs, 100000 loops each)\n"
     ]
    }
   ],
   "source": [
    "%%timeit -n 100000 -r 10\n",
    "statistics.median_high(numbers)"
   ]
  },
  {
   "cell_type": "code",
   "execution_count": 72,
   "metadata": {},
   "outputs": [
    {
     "name": "stdout",
     "output_type": "stream",
     "text": [
      "25 µs ± 818 ns per loop (mean ± std. dev. of 10 runs, 100000 loops each)\n"
     ]
    }
   ],
   "source": [
    "%%timeit -n 100000 -r 10\n",
    "np.median(numbers)"
   ]
  },
  {
   "cell_type": "markdown",
   "metadata": {},
   "source": [
    "###### Mode"
   ]
  },
  {
   "cell_type": "code",
   "execution_count": 97,
   "metadata": {},
   "outputs": [],
   "source": [
    "numbers = [1, 2, 2, 3, 3, 3, 4, 5, 5, 6, 7, 8, 8, 8, 9, 0, 10]"
   ]
  },
  {
   "cell_type": "code",
   "execution_count": 98,
   "metadata": {},
   "outputs": [
    {
     "name": "stdout",
     "output_type": "stream",
     "text": [
      "5.33 µs ± 390 ns per loop (mean ± std. dev. of 10 runs, 100000 loops each)\n"
     ]
    }
   ],
   "source": [
    "%%timeit -n 100000 -r 10\n",
    "max((numbers.count(item), item) for item in set(numbers))[1]"
   ]
  },
  {
   "cell_type": "code",
   "execution_count": 99,
   "metadata": {},
   "outputs": [
    {
     "name": "stdout",
     "output_type": "stream",
     "text": [
      "6.53 µs ± 684 ns per loop (mean ± std. dev. of 10 runs, 100000 loops each)\n"
     ]
    }
   ],
   "source": [
    "%%timeit -n 100000 -r 10\n",
    "statistics.mode(numbers)"
   ]
  },
  {
   "cell_type": "code",
   "execution_count": 100,
   "metadata": {},
   "outputs": [
    {
     "name": "stdout",
     "output_type": "stream",
     "text": [
      "5.14 µs ± 152 ns per loop (mean ± std. dev. of 10 runs, 100000 loops each)\n"
     ]
    }
   ],
   "source": [
    "%%timeit -n 100000 -r 10\n",
    "statistics.multimode(numbers)"
   ]
  },
  {
   "cell_type": "code",
   "execution_count": 108,
   "metadata": {},
   "outputs": [
    {
     "name": "stdout",
     "output_type": "stream",
     "text": [
      "102 µs ± 16.3 µs per loop (mean ± std. dev. of 10 runs, 100000 loops each)\n"
     ]
    }
   ],
   "source": [
    "%%timeit -n 100000 -r 10\n",
    "scipy.stats.mode(numbers)"
   ]
  },
  {
   "cell_type": "markdown",
   "metadata": {},
   "source": [
    "##### Variability"
   ]
  },
  {
   "cell_type": "code",
   "execution_count": null,
   "metadata": {},
   "outputs": [],
   "source": []
  },
  {
   "cell_type": "markdown",
   "metadata": {},
   "source": [
    "##### Correlation or Joint Variability"
   ]
  },
  {
   "cell_type": "code",
   "execution_count": null,
   "metadata": {},
   "outputs": [],
   "source": []
  }
 ],
 "metadata": {
  "kernelspec": {
   "display_name": "Python 3.8.5 32-bit",
   "language": "python",
   "name": "python38532bit7759fdb01b2c4956a0cd2943d5c1d5b6"
  },
  "language_info": {
   "codemirror_mode": {
    "name": "ipython",
    "version": 3
   },
   "file_extension": ".py",
   "mimetype": "text/x-python",
   "name": "python",
   "nbconvert_exporter": "python",
   "pygments_lexer": "ipython3",
   "version": "3.8.5"
  }
 },
 "nbformat": 4,
 "nbformat_minor": 4
}
